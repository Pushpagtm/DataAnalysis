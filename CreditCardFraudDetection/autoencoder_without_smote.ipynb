{
 "cells": [
  {
   "cell_type": "markdown",
   "metadata": {},
   "source": [
    "##  Importing related library"
   ]
  },
  {
   "cell_type": "code",
   "execution_count": 1,
   "metadata": {},
   "outputs": [
    {
     "name": "stderr",
     "output_type": "stream",
     "text": [
      "Using TensorFlow backend.\n"
     ]
    }
   ],
   "source": [
    "import os\n",
    "import pandas as pd\n",
    "import numpy as np\n",
    "import matplotlib.pyplot as plt\n",
    "import seaborn as sns \n",
    "from sklearn.model_selection import train_test_split\n",
    "from keras.models import Model, load_model\n",
    "from keras.layers import Input, Dense\n",
    "from keras.callbacks import ModelCheckpoint, TensorBoard\n",
    "from keras import regularizers"
   ]
  },
  {
   "cell_type": "code",
   "execution_count": 2,
   "metadata": {},
   "outputs": [
    {
     "data": {
      "text/html": [
       "<div>\n",
       "<style scoped>\n",
       "    .dataframe tbody tr th:only-of-type {\n",
       "        vertical-align: middle;\n",
       "    }\n",
       "\n",
       "    .dataframe tbody tr th {\n",
       "        vertical-align: top;\n",
       "    }\n",
       "\n",
       "    .dataframe thead th {\n",
       "        text-align: right;\n",
       "    }\n",
       "</style>\n",
       "<table border=\"1\" class=\"dataframe\">\n",
       "  <thead>\n",
       "    <tr style=\"text-align: right;\">\n",
       "      <th></th>\n",
       "      <th>Time</th>\n",
       "      <th>V1</th>\n",
       "      <th>V2</th>\n",
       "      <th>V3</th>\n",
       "      <th>V4</th>\n",
       "      <th>V5</th>\n",
       "      <th>V6</th>\n",
       "      <th>V7</th>\n",
       "      <th>V8</th>\n",
       "      <th>V9</th>\n",
       "      <th>...</th>\n",
       "      <th>V21</th>\n",
       "      <th>V22</th>\n",
       "      <th>V23</th>\n",
       "      <th>V24</th>\n",
       "      <th>V25</th>\n",
       "      <th>V26</th>\n",
       "      <th>V27</th>\n",
       "      <th>V28</th>\n",
       "      <th>Amount</th>\n",
       "      <th>Class</th>\n",
       "    </tr>\n",
       "  </thead>\n",
       "  <tbody>\n",
       "    <tr>\n",
       "      <th>0</th>\n",
       "      <td>0.0</td>\n",
       "      <td>-1.359807</td>\n",
       "      <td>-0.072781</td>\n",
       "      <td>2.536347</td>\n",
       "      <td>1.378155</td>\n",
       "      <td>-0.338321</td>\n",
       "      <td>0.462388</td>\n",
       "      <td>0.239599</td>\n",
       "      <td>0.098698</td>\n",
       "      <td>0.363787</td>\n",
       "      <td>...</td>\n",
       "      <td>-0.018307</td>\n",
       "      <td>0.277838</td>\n",
       "      <td>-0.110474</td>\n",
       "      <td>0.066928</td>\n",
       "      <td>0.128539</td>\n",
       "      <td>-0.189115</td>\n",
       "      <td>0.133558</td>\n",
       "      <td>-0.021053</td>\n",
       "      <td>149.62</td>\n",
       "      <td>0</td>\n",
       "    </tr>\n",
       "    <tr>\n",
       "      <th>1</th>\n",
       "      <td>0.0</td>\n",
       "      <td>1.191857</td>\n",
       "      <td>0.266151</td>\n",
       "      <td>0.166480</td>\n",
       "      <td>0.448154</td>\n",
       "      <td>0.060018</td>\n",
       "      <td>-0.082361</td>\n",
       "      <td>-0.078803</td>\n",
       "      <td>0.085102</td>\n",
       "      <td>-0.255425</td>\n",
       "      <td>...</td>\n",
       "      <td>-0.225775</td>\n",
       "      <td>-0.638672</td>\n",
       "      <td>0.101288</td>\n",
       "      <td>-0.339846</td>\n",
       "      <td>0.167170</td>\n",
       "      <td>0.125895</td>\n",
       "      <td>-0.008983</td>\n",
       "      <td>0.014724</td>\n",
       "      <td>2.69</td>\n",
       "      <td>0</td>\n",
       "    </tr>\n",
       "    <tr>\n",
       "      <th>2</th>\n",
       "      <td>1.0</td>\n",
       "      <td>-1.358354</td>\n",
       "      <td>-1.340163</td>\n",
       "      <td>1.773209</td>\n",
       "      <td>0.379780</td>\n",
       "      <td>-0.503198</td>\n",
       "      <td>1.800499</td>\n",
       "      <td>0.791461</td>\n",
       "      <td>0.247676</td>\n",
       "      <td>-1.514654</td>\n",
       "      <td>...</td>\n",
       "      <td>0.247998</td>\n",
       "      <td>0.771679</td>\n",
       "      <td>0.909412</td>\n",
       "      <td>-0.689281</td>\n",
       "      <td>-0.327642</td>\n",
       "      <td>-0.139097</td>\n",
       "      <td>-0.055353</td>\n",
       "      <td>-0.059752</td>\n",
       "      <td>378.66</td>\n",
       "      <td>0</td>\n",
       "    </tr>\n",
       "    <tr>\n",
       "      <th>3</th>\n",
       "      <td>1.0</td>\n",
       "      <td>-0.966272</td>\n",
       "      <td>-0.185226</td>\n",
       "      <td>1.792993</td>\n",
       "      <td>-0.863291</td>\n",
       "      <td>-0.010309</td>\n",
       "      <td>1.247203</td>\n",
       "      <td>0.237609</td>\n",
       "      <td>0.377436</td>\n",
       "      <td>-1.387024</td>\n",
       "      <td>...</td>\n",
       "      <td>-0.108300</td>\n",
       "      <td>0.005274</td>\n",
       "      <td>-0.190321</td>\n",
       "      <td>-1.175575</td>\n",
       "      <td>0.647376</td>\n",
       "      <td>-0.221929</td>\n",
       "      <td>0.062723</td>\n",
       "      <td>0.061458</td>\n",
       "      <td>123.50</td>\n",
       "      <td>0</td>\n",
       "    </tr>\n",
       "    <tr>\n",
       "      <th>4</th>\n",
       "      <td>2.0</td>\n",
       "      <td>-1.158233</td>\n",
       "      <td>0.877737</td>\n",
       "      <td>1.548718</td>\n",
       "      <td>0.403034</td>\n",
       "      <td>-0.407193</td>\n",
       "      <td>0.095921</td>\n",
       "      <td>0.592941</td>\n",
       "      <td>-0.270533</td>\n",
       "      <td>0.817739</td>\n",
       "      <td>...</td>\n",
       "      <td>-0.009431</td>\n",
       "      <td>0.798278</td>\n",
       "      <td>-0.137458</td>\n",
       "      <td>0.141267</td>\n",
       "      <td>-0.206010</td>\n",
       "      <td>0.502292</td>\n",
       "      <td>0.219422</td>\n",
       "      <td>0.215153</td>\n",
       "      <td>69.99</td>\n",
       "      <td>0</td>\n",
       "    </tr>\n",
       "  </tbody>\n",
       "</table>\n",
       "<p>5 rows × 31 columns</p>\n",
       "</div>"
      ],
      "text/plain": [
       "   Time        V1        V2        V3        V4        V5        V6        V7  \\\n",
       "0   0.0 -1.359807 -0.072781  2.536347  1.378155 -0.338321  0.462388  0.239599   \n",
       "1   0.0  1.191857  0.266151  0.166480  0.448154  0.060018 -0.082361 -0.078803   \n",
       "2   1.0 -1.358354 -1.340163  1.773209  0.379780 -0.503198  1.800499  0.791461   \n",
       "3   1.0 -0.966272 -0.185226  1.792993 -0.863291 -0.010309  1.247203  0.237609   \n",
       "4   2.0 -1.158233  0.877737  1.548718  0.403034 -0.407193  0.095921  0.592941   \n",
       "\n",
       "         V8        V9  ...       V21       V22       V23       V24       V25  \\\n",
       "0  0.098698  0.363787  ... -0.018307  0.277838 -0.110474  0.066928  0.128539   \n",
       "1  0.085102 -0.255425  ... -0.225775 -0.638672  0.101288 -0.339846  0.167170   \n",
       "2  0.247676 -1.514654  ...  0.247998  0.771679  0.909412 -0.689281 -0.327642   \n",
       "3  0.377436 -1.387024  ... -0.108300  0.005274 -0.190321 -1.175575  0.647376   \n",
       "4 -0.270533  0.817739  ... -0.009431  0.798278 -0.137458  0.141267 -0.206010   \n",
       "\n",
       "        V26       V27       V28  Amount  Class  \n",
       "0 -0.189115  0.133558 -0.021053  149.62      0  \n",
       "1  0.125895 -0.008983  0.014724    2.69      0  \n",
       "2 -0.139097 -0.055353 -0.059752  378.66      0  \n",
       "3 -0.221929  0.062723  0.061458  123.50      0  \n",
       "4  0.502292  0.219422  0.215153   69.99      0  \n",
       "\n",
       "[5 rows x 31 columns]"
      ]
     },
     "execution_count": 2,
     "metadata": {},
     "output_type": "execute_result"
    }
   ],
   "source": [
    "dataset = pd.read_csv(\"./Dataset/creditcard.csv\")\n",
    "dataset.head()"
   ]
  },
  {
   "cell_type": "code",
   "execution_count": 3,
   "metadata": {},
   "outputs": [
    {
     "data": {
      "text/html": [
       "<div>\n",
       "<style scoped>\n",
       "    .dataframe tbody tr th:only-of-type {\n",
       "        vertical-align: middle;\n",
       "    }\n",
       "\n",
       "    .dataframe tbody tr th {\n",
       "        vertical-align: top;\n",
       "    }\n",
       "\n",
       "    .dataframe thead th {\n",
       "        text-align: right;\n",
       "    }\n",
       "</style>\n",
       "<table border=\"1\" class=\"dataframe\">\n",
       "  <thead>\n",
       "    <tr style=\"text-align: right;\">\n",
       "      <th></th>\n",
       "      <th>Time</th>\n",
       "      <th>V1</th>\n",
       "      <th>V2</th>\n",
       "      <th>V3</th>\n",
       "      <th>V4</th>\n",
       "      <th>V5</th>\n",
       "      <th>V6</th>\n",
       "      <th>V7</th>\n",
       "      <th>V8</th>\n",
       "      <th>V9</th>\n",
       "      <th>...</th>\n",
       "      <th>V21</th>\n",
       "      <th>V22</th>\n",
       "      <th>V23</th>\n",
       "      <th>V24</th>\n",
       "      <th>V25</th>\n",
       "      <th>V26</th>\n",
       "      <th>V27</th>\n",
       "      <th>V28</th>\n",
       "      <th>Amount</th>\n",
       "      <th>Class</th>\n",
       "    </tr>\n",
       "  </thead>\n",
       "  <tbody>\n",
       "    <tr>\n",
       "      <th>0</th>\n",
       "      <td>0.0</td>\n",
       "      <td>-1.359807</td>\n",
       "      <td>-0.072781</td>\n",
       "      <td>2.536347</td>\n",
       "      <td>1.378155</td>\n",
       "      <td>-0.338321</td>\n",
       "      <td>0.462388</td>\n",
       "      <td>0.239599</td>\n",
       "      <td>0.098698</td>\n",
       "      <td>0.363787</td>\n",
       "      <td>...</td>\n",
       "      <td>-0.018307</td>\n",
       "      <td>0.277838</td>\n",
       "      <td>-0.110474</td>\n",
       "      <td>0.066928</td>\n",
       "      <td>0.128539</td>\n",
       "      <td>-0.189115</td>\n",
       "      <td>0.133558</td>\n",
       "      <td>-0.021053</td>\n",
       "      <td>149.62</td>\n",
       "      <td>0</td>\n",
       "    </tr>\n",
       "    <tr>\n",
       "      <th>1</th>\n",
       "      <td>0.0</td>\n",
       "      <td>1.191857</td>\n",
       "      <td>0.266151</td>\n",
       "      <td>0.166480</td>\n",
       "      <td>0.448154</td>\n",
       "      <td>0.060018</td>\n",
       "      <td>-0.082361</td>\n",
       "      <td>-0.078803</td>\n",
       "      <td>0.085102</td>\n",
       "      <td>-0.255425</td>\n",
       "      <td>...</td>\n",
       "      <td>-0.225775</td>\n",
       "      <td>-0.638672</td>\n",
       "      <td>0.101288</td>\n",
       "      <td>-0.339846</td>\n",
       "      <td>0.167170</td>\n",
       "      <td>0.125895</td>\n",
       "      <td>-0.008983</td>\n",
       "      <td>0.014724</td>\n",
       "      <td>2.69</td>\n",
       "      <td>0</td>\n",
       "    </tr>\n",
       "    <tr>\n",
       "      <th>2</th>\n",
       "      <td>1.0</td>\n",
       "      <td>-1.358354</td>\n",
       "      <td>-1.340163</td>\n",
       "      <td>1.773209</td>\n",
       "      <td>0.379780</td>\n",
       "      <td>-0.503198</td>\n",
       "      <td>1.800499</td>\n",
       "      <td>0.791461</td>\n",
       "      <td>0.247676</td>\n",
       "      <td>-1.514654</td>\n",
       "      <td>...</td>\n",
       "      <td>0.247998</td>\n",
       "      <td>0.771679</td>\n",
       "      <td>0.909412</td>\n",
       "      <td>-0.689281</td>\n",
       "      <td>-0.327642</td>\n",
       "      <td>-0.139097</td>\n",
       "      <td>-0.055353</td>\n",
       "      <td>-0.059752</td>\n",
       "      <td>378.66</td>\n",
       "      <td>0</td>\n",
       "    </tr>\n",
       "    <tr>\n",
       "      <th>3</th>\n",
       "      <td>1.0</td>\n",
       "      <td>-0.966272</td>\n",
       "      <td>-0.185226</td>\n",
       "      <td>1.792993</td>\n",
       "      <td>-0.863291</td>\n",
       "      <td>-0.010309</td>\n",
       "      <td>1.247203</td>\n",
       "      <td>0.237609</td>\n",
       "      <td>0.377436</td>\n",
       "      <td>-1.387024</td>\n",
       "      <td>...</td>\n",
       "      <td>-0.108300</td>\n",
       "      <td>0.005274</td>\n",
       "      <td>-0.190321</td>\n",
       "      <td>-1.175575</td>\n",
       "      <td>0.647376</td>\n",
       "      <td>-0.221929</td>\n",
       "      <td>0.062723</td>\n",
       "      <td>0.061458</td>\n",
       "      <td>123.50</td>\n",
       "      <td>0</td>\n",
       "    </tr>\n",
       "    <tr>\n",
       "      <th>4</th>\n",
       "      <td>2.0</td>\n",
       "      <td>-1.158233</td>\n",
       "      <td>0.877737</td>\n",
       "      <td>1.548718</td>\n",
       "      <td>0.403034</td>\n",
       "      <td>-0.407193</td>\n",
       "      <td>0.095921</td>\n",
       "      <td>0.592941</td>\n",
       "      <td>-0.270533</td>\n",
       "      <td>0.817739</td>\n",
       "      <td>...</td>\n",
       "      <td>-0.009431</td>\n",
       "      <td>0.798278</td>\n",
       "      <td>-0.137458</td>\n",
       "      <td>0.141267</td>\n",
       "      <td>-0.206010</td>\n",
       "      <td>0.502292</td>\n",
       "      <td>0.219422</td>\n",
       "      <td>0.215153</td>\n",
       "      <td>69.99</td>\n",
       "      <td>0</td>\n",
       "    </tr>\n",
       "  </tbody>\n",
       "</table>\n",
       "<p>5 rows × 31 columns</p>\n",
       "</div>"
      ],
      "text/plain": [
       "   Time        V1        V2        V3        V4        V5        V6        V7  \\\n",
       "0   0.0 -1.359807 -0.072781  2.536347  1.378155 -0.338321  0.462388  0.239599   \n",
       "1   0.0  1.191857  0.266151  0.166480  0.448154  0.060018 -0.082361 -0.078803   \n",
       "2   1.0 -1.358354 -1.340163  1.773209  0.379780 -0.503198  1.800499  0.791461   \n",
       "3   1.0 -0.966272 -0.185226  1.792993 -0.863291 -0.010309  1.247203  0.237609   \n",
       "4   2.0 -1.158233  0.877737  1.548718  0.403034 -0.407193  0.095921  0.592941   \n",
       "\n",
       "         V8        V9  ...       V21       V22       V23       V24       V25  \\\n",
       "0  0.098698  0.363787  ... -0.018307  0.277838 -0.110474  0.066928  0.128539   \n",
       "1  0.085102 -0.255425  ... -0.225775 -0.638672  0.101288 -0.339846  0.167170   \n",
       "2  0.247676 -1.514654  ...  0.247998  0.771679  0.909412 -0.689281 -0.327642   \n",
       "3  0.377436 -1.387024  ... -0.108300  0.005274 -0.190321 -1.175575  0.647376   \n",
       "4 -0.270533  0.817739  ... -0.009431  0.798278 -0.137458  0.141267 -0.206010   \n",
       "\n",
       "        V26       V27       V28  Amount  Class  \n",
       "0 -0.189115  0.133558 -0.021053  149.62      0  \n",
       "1  0.125895 -0.008983  0.014724    2.69      0  \n",
       "2 -0.139097 -0.055353 -0.059752  378.66      0  \n",
       "3 -0.221929  0.062723  0.061458  123.50      0  \n",
       "4  0.502292  0.219422  0.215153   69.99      0  \n",
       "\n",
       "[5 rows x 31 columns]"
      ]
     },
     "execution_count": 3,
     "metadata": {},
     "output_type": "execute_result"
    }
   ],
   "source": [
    "features = dataset.iloc[:,]\n",
    "features.head()"
   ]
  },
  {
   "cell_type": "code",
   "execution_count": 4,
   "metadata": {},
   "outputs": [
    {
     "name": "stdout",
     "output_type": "stream",
     "text": [
      "(284807, 31)\n"
     ]
    }
   ],
   "source": [
    "print(dataset.shape)"
   ]
  },
  {
   "cell_type": "markdown",
   "metadata": {},
   "source": [
    "## To check whether any value of cell is empty or not"
   ]
  },
  {
   "cell_type": "code",
   "execution_count": 5,
   "metadata": {},
   "outputs": [
    {
     "data": {
      "text/plain": [
       "False"
      ]
     },
     "execution_count": 5,
     "metadata": {},
     "output_type": "execute_result"
    }
   ],
   "source": [
    "dataset.isnull().values.any()"
   ]
  },
  {
   "cell_type": "code",
   "execution_count": 6,
   "metadata": {},
   "outputs": [
    {
     "data": {
      "image/png": "[encoded data removed]",
      "text/plain": [
       "<Figure size 432x288 with 1 Axes>"
      ]
     },
     "metadata": {
      "needs_background": "light"
     },
     "output_type": "display_data"
    }
   ],
   "source": [
    "classes_count = pd.value_counts(dataset['Class'],sort = True).sort_index()\n",
    "classes_count.plot(kind='bar', color = \"Gray\")\n",
    "plt.title('Fraud Class Histogram', fontweight='bold', fontsize = '15', color = \"gray\")\n",
    "plt.xlabel('Class', fontweight='bold', fontsize = '15', color = \"gray\")\n",
    "plt.ylabel('Frequency', fontweight='bold', fontsize = '15', color = \"gray\")\n",
    "plt.grid(b=True, which='major', color='#666666', linestyle='-')\n",
    "plt.show()"
   ]
  },
  {
   "cell_type": "code",
   "execution_count": 7,
   "metadata": {},
   "outputs": [],
   "source": [
    "from sklearn.preprocessing import StandardScaler\n",
    "\n",
    "scaler = StandardScaler()\n",
    "\n",
    "dataset['normalize_amount'] = scaler.fit_transform(dataset['Amount'].values.reshape(-1,1))\n",
    "# dataset['normalize_time'] = scaler.fit_transform(dataset['Time'].values.reshape(-1,1))"
   ]
  },
  {
   "cell_type": "code",
   "execution_count": 8,
   "metadata": {},
   "outputs": [],
   "source": [
    "dataset = dataset.drop(['Time'], axis = 1)\n",
    "dataset = dataset.drop(['Amount'], axis = 1)"
   ]
  },
  {
   "cell_type": "code",
   "execution_count": 9,
   "metadata": {},
   "outputs": [
    {
     "data": {
      "text/html": [
       "<div>\n",
       "<style scoped>\n",
       "    .dataframe tbody tr th:only-of-type {\n",
       "        vertical-align: middle;\n",
       "    }\n",
       "\n",
       "    .dataframe tbody tr th {\n",
       "        vertical-align: top;\n",
       "    }\n",
       "\n",
       "    .dataframe thead th {\n",
       "        text-align: right;\n",
       "    }\n",
       "</style>\n",
       "<table border=\"1\" class=\"dataframe\">\n",
       "  <thead>\n",
       "    <tr style=\"text-align: right;\">\n",
       "      <th></th>\n",
       "      <th>V1</th>\n",
       "      <th>V2</th>\n",
       "      <th>V3</th>\n",
       "      <th>V4</th>\n",
       "      <th>V5</th>\n",
       "      <th>V6</th>\n",
       "      <th>V7</th>\n",
       "      <th>V8</th>\n",
       "      <th>V9</th>\n",
       "      <th>V10</th>\n",
       "      <th>...</th>\n",
       "      <th>V21</th>\n",
       "      <th>V22</th>\n",
       "      <th>V23</th>\n",
       "      <th>V24</th>\n",
       "      <th>V25</th>\n",
       "      <th>V26</th>\n",
       "      <th>V27</th>\n",
       "      <th>V28</th>\n",
       "      <th>Class</th>\n",
       "      <th>normalize_amount</th>\n",
       "    </tr>\n",
       "  </thead>\n",
       "  <tbody>\n",
       "    <tr>\n",
       "      <th>0</th>\n",
       "      <td>-1.359807</td>\n",
       "      <td>-0.072781</td>\n",
       "      <td>2.536347</td>\n",
       "      <td>1.378155</td>\n",
       "      <td>-0.338321</td>\n",
       "      <td>0.462388</td>\n",
       "      <td>0.239599</td>\n",
       "      <td>0.098698</td>\n",
       "      <td>0.363787</td>\n",
       "      <td>0.090794</td>\n",
       "      <td>...</td>\n",
       "      <td>-0.018307</td>\n",
       "      <td>0.277838</td>\n",
       "      <td>-0.110474</td>\n",
       "      <td>0.066928</td>\n",
       "      <td>0.128539</td>\n",
       "      <td>-0.189115</td>\n",
       "      <td>0.133558</td>\n",
       "      <td>-0.021053</td>\n",
       "      <td>0</td>\n",
       "      <td>0.244964</td>\n",
       "    </tr>\n",
       "    <tr>\n",
       "      <th>1</th>\n",
       "      <td>1.191857</td>\n",
       "      <td>0.266151</td>\n",
       "      <td>0.166480</td>\n",
       "      <td>0.448154</td>\n",
       "      <td>0.060018</td>\n",
       "      <td>-0.082361</td>\n",
       "      <td>-0.078803</td>\n",
       "      <td>0.085102</td>\n",
       "      <td>-0.255425</td>\n",
       "      <td>-0.166974</td>\n",
       "      <td>...</td>\n",
       "      <td>-0.225775</td>\n",
       "      <td>-0.638672</td>\n",
       "      <td>0.101288</td>\n",
       "      <td>-0.339846</td>\n",
       "      <td>0.167170</td>\n",
       "      <td>0.125895</td>\n",
       "      <td>-0.008983</td>\n",
       "      <td>0.014724</td>\n",
       "      <td>0</td>\n",
       "      <td>-0.342475</td>\n",
       "    </tr>\n",
       "    <tr>\n",
       "      <th>2</th>\n",
       "      <td>-1.358354</td>\n",
       "      <td>-1.340163</td>\n",
       "      <td>1.773209</td>\n",
       "      <td>0.379780</td>\n",
       "      <td>-0.503198</td>\n",
       "      <td>1.800499</td>\n",
       "      <td>0.791461</td>\n",
       "      <td>0.247676</td>\n",
       "      <td>-1.514654</td>\n",
       "      <td>0.207643</td>\n",
       "      <td>...</td>\n",
       "      <td>0.247998</td>\n",
       "      <td>0.771679</td>\n",
       "      <td>0.909412</td>\n",
       "      <td>-0.689281</td>\n",
       "      <td>-0.327642</td>\n",
       "      <td>-0.139097</td>\n",
       "      <td>-0.055353</td>\n",
       "      <td>-0.059752</td>\n",
       "      <td>0</td>\n",
       "      <td>1.160686</td>\n",
       "    </tr>\n",
       "    <tr>\n",
       "      <th>3</th>\n",
       "      <td>-0.966272</td>\n",
       "      <td>-0.185226</td>\n",
       "      <td>1.792993</td>\n",
       "      <td>-0.863291</td>\n",
       "      <td>-0.010309</td>\n",
       "      <td>1.247203</td>\n",
       "      <td>0.237609</td>\n",
       "      <td>0.377436</td>\n",
       "      <td>-1.387024</td>\n",
       "      <td>-0.054952</td>\n",
       "      <td>...</td>\n",
       "      <td>-0.108300</td>\n",
       "      <td>0.005274</td>\n",
       "      <td>-0.190321</td>\n",
       "      <td>-1.175575</td>\n",
       "      <td>0.647376</td>\n",
       "      <td>-0.221929</td>\n",
       "      <td>0.062723</td>\n",
       "      <td>0.061458</td>\n",
       "      <td>0</td>\n",
       "      <td>0.140534</td>\n",
       "    </tr>\n",
       "    <tr>\n",
       "      <th>4</th>\n",
       "      <td>-1.158233</td>\n",
       "      <td>0.877737</td>\n",
       "      <td>1.548718</td>\n",
       "      <td>0.403034</td>\n",
       "      <td>-0.407193</td>\n",
       "      <td>0.095921</td>\n",
       "      <td>0.592941</td>\n",
       "      <td>-0.270533</td>\n",
       "      <td>0.817739</td>\n",
       "      <td>0.753074</td>\n",
       "      <td>...</td>\n",
       "      <td>-0.009431</td>\n",
       "      <td>0.798278</td>\n",
       "      <td>-0.137458</td>\n",
       "      <td>0.141267</td>\n",
       "      <td>-0.206010</td>\n",
       "      <td>0.502292</td>\n",
       "      <td>0.219422</td>\n",
       "      <td>0.215153</td>\n",
       "      <td>0</td>\n",
       "      <td>-0.073403</td>\n",
       "    </tr>\n",
       "  </tbody>\n",
       "</table>\n",
       "<p>5 rows × 30 columns</p>\n",
       "</div>"
      ],
      "text/plain": [
       "         V1        V2        V3        V4        V5        V6        V7  \\\n",
       "0 -1.359807 -0.072781  2.536347  1.378155 -0.338321  0.462388  0.239599   \n",
       "1  1.191857  0.266151  0.166480  0.448154  0.060018 -0.082361 -0.078803   \n",
       "2 -1.358354 -1.340163  1.773209  0.379780 -0.503198  1.800499  0.791461   \n",
       "3 -0.966272 -0.185226  1.792993 -0.863291 -0.010309  1.247203  0.237609   \n",
       "4 -1.158233  0.877737  1.548718  0.403034 -0.407193  0.095921  0.592941   \n",
       "\n",
       "         V8        V9       V10  ...       V21       V22       V23       V24  \\\n",
       "0  0.098698  0.363787  0.090794  ... -0.018307  0.277838 -0.110474  0.066928   \n",
       "1  0.085102 -0.255425 -0.166974  ... -0.225775 -0.638672  0.101288 -0.339846   \n",
       "2  0.247676 -1.514654  0.207643  ...  0.247998  0.771679  0.909412 -0.689281   \n",
       "3  0.377436 -1.387024 -0.054952  ... -0.108300  0.005274 -0.190321 -1.175575   \n",
       "4 -0.270533  0.817739  0.753074  ... -0.009431  0.798278 -0.137458  0.141267   \n",
       "\n",
       "        V25       V26       V27       V28  Class  normalize_amount  \n",
       "0  0.128539 -0.189115  0.133558 -0.021053      0          0.244964  \n",
       "1  0.167170  0.125895 -0.008983  0.014724      0         -0.342475  \n",
       "2 -0.327642 -0.139097 -0.055353 -0.059752      0          1.160686  \n",
       "3  0.647376 -0.221929  0.062723  0.061458      0          0.140534  \n",
       "4 -0.206010  0.502292  0.219422  0.215153      0         -0.073403  \n",
       "\n",
       "[5 rows x 30 columns]"
      ]
     },
     "execution_count": 9,
     "metadata": {},
     "output_type": "execute_result"
    }
   ],
   "source": [
    "dataset.head()"
   ]
  },
  {
   "cell_type": "code",
   "execution_count": 10,
   "metadata": {},
   "outputs": [],
   "source": [
    "X_feature, X_target = train_test_split(dataset, test_size = 0.2 , random_state = 42)\n",
    "X_feature = X_feature[X_feature.Class == 0]\n",
    "X_feature = X_feature.drop(['Class'], axis =1)\n",
    "\n",
    "y_target = X_target['Class']\n",
    "X_target = X_target.drop(['Class'], axis =1)"
   ]
  },
  {
   "cell_type": "code",
   "execution_count": 11,
   "metadata": {},
   "outputs": [],
   "source": [
    "X_feature = X_feature.values\n",
    "X_target = X_target.values"
   ]
  },
  {
   "cell_type": "code",
   "execution_count": 12,
   "metadata": {},
   "outputs": [
    {
     "data": {
      "text/plain": [
       "(227451, 29)"
      ]
     },
     "execution_count": 12,
     "metadata": {},
     "output_type": "execute_result"
    }
   ],
   "source": [
    "X_feature.shape"
   ]
  },
  {
   "cell_type": "code",
   "execution_count": 13,
   "metadata": {},
   "outputs": [
    {
     "data": {
      "text/plain": [
       "(56962, 29)"
      ]
     },
     "execution_count": 13,
     "metadata": {},
     "output_type": "execute_result"
    }
   ],
   "source": [
    "X_target.shape"
   ]
  },
  {
   "cell_type": "code",
   "execution_count": 14,
   "metadata": {},
   "outputs": [
    {
     "data": {
      "text/plain": [
       "29"
      ]
     },
     "execution_count": 14,
     "metadata": {},
     "output_type": "execute_result"
    }
   ],
   "source": [
    "input_dim = X_feature.shape[1]\n",
    "input_dim"
   ]
  },
  {
   "cell_type": "code",
   "execution_count": 15,
   "metadata": {},
   "outputs": [],
   "source": [
    "encoding_dim = 14"
   ]
  },
  {
   "cell_type": "code",
   "execution_count": 16,
   "metadata": {},
   "outputs": [
    {
     "data": {
      "text/plain": [
       "7"
      ]
     },
     "execution_count": 16,
     "metadata": {},
     "output_type": "execute_result"
    }
   ],
   "source": [
    "hidden_dim = int(encoding_dim / 2)\n",
    "hidden_dim"
   ]
  },
  {
   "cell_type": "code",
   "execution_count": 17,
   "metadata": {},
   "outputs": [],
   "source": [
    "learning_rate = 1e-5"
   ]
  },
  {
   "cell_type": "code",
   "execution_count": 18,
   "metadata": {},
   "outputs": [],
   "source": [
    "input_layer = Input(shape= (input_dim,))\n",
    "\n",
    "encoder = Dense(encoding_dim, activation=\"tanh\", activity_regularizer=regularizers.l1(learning_rate))(input_layer)\n",
    "encoder = Dense(hidden_dim, activation=\"relu\")(encoder)\n",
    "decoder = Dense(hidden_dim, activation='tanh')(encoder)\n",
    "decoder = Dense(input_dim, activation=\"relu\")(decoder)\n",
    "\n",
    "autoencoder = Model(inputs = input_layer, outputs = decoder)"
   ]
  },
  {
   "cell_type": "code",
   "execution_count": 19,
   "metadata": {},
   "outputs": [
    {
     "name": "stdout",
     "output_type": "stream",
     "text": [
      "Model: \"model_1\"\n",
      "_________________________________________________________________\n",
      "Layer (type)                 Output Shape              Param #   \n",
      "=================================================================\n",
      "input_1 (InputLayer)         (None, 29)                0         \n",
      "_________________________________________________________________\n",
      "dense_1 (Dense)              (None, 14)                420       \n",
      "_________________________________________________________________\n",
      "dense_2 (Dense)              (None, 7)                 105       \n",
      "_________________________________________________________________\n",
      "dense_3 (Dense)              (None, 7)                 56        \n",
      "_________________________________________________________________\n",
      "dense_4 (Dense)              (None, 29)                232       \n",
      "=================================================================\n",
      "Total params: 813\n",
      "Trainable params: 813\n",
      "Non-trainable params: 0\n",
      "_________________________________________________________________\n"
     ]
    }
   ],
   "source": [
    "autoencoder.summary()"
   ]
  },
  {
   "cell_type": "code",
   "execution_count": 20,
   "metadata": {},
   "outputs": [
    {
     "name": "stdout",
     "output_type": "stream",
     "text": [
      "Train on 227451 samples, validate on 56962 samples\n",
      "Epoch 1/100\n",
      "227451/227451 [==============================] - 16s 71us/step - loss: 0.8125 - accuracy: 0.6011 - val_loss: 0.7891 - val_accuracy: 0.6586\n",
      "Epoch 2/100\n",
      "227451/227451 [==============================] - 14s 63us/step - loss: 0.7441 - accuracy: 0.6632 - val_loss: 0.7634 - val_accuracy: 0.6605\n",
      "Epoch 3/100\n",
      "227451/227451 [==============================] - 23s 103us/step - loss: 0.7247 - accuracy: 0.6788 - val_loss: 0.7512 - val_accuracy: 0.6882\n",
      "Epoch 4/100\n",
      "227451/227451 [==============================] - 18s 78us/step - loss: 0.7153 - accuracy: 0.6943 - val_loss: 0.7470 - val_accuracy: 0.7007\n",
      "Epoch 5/100\n",
      "227451/227451 [==============================] - 17s 73us/step - loss: 0.7103 - accuracy: 0.7025 - val_loss: 0.7444 - val_accuracy: 0.7022\n",
      "Epoch 6/100\n",
      "227451/227451 [==============================] - 17s 76us/step - loss: 0.7076 - accuracy: 0.7046 - val_loss: 0.7401 - val_accuracy: 0.7087\n",
      "Epoch 7/100\n",
      "227451/227451 [==============================] - 16s 71us/step - loss: 0.7056 - accuracy: 0.7068 - val_loss: 0.7378 - val_accuracy: 0.7060\n",
      "Epoch 8/100\n",
      "227451/227451 [==============================] - 15s 64us/step - loss: 0.7046 - accuracy: 0.7076 - val_loss: 0.7377 - val_accuracy: 0.7069\n",
      "Epoch 9/100\n",
      "227451/227451 [==============================] - 14s 63us/step - loss: 0.7035 - accuracy: 0.7094 - val_loss: 0.7366 - val_accuracy: 0.7089\n",
      "Epoch 10/100\n",
      "227451/227451 [==============================] - 14s 64us/step - loss: 0.7025 - accuracy: 0.7098 - val_loss: 0.7341 - val_accuracy: 0.7132\n",
      "Epoch 11/100\n",
      "227451/227451 [==============================] - 15s 64us/step - loss: 0.7020 - accuracy: 0.7091 - val_loss: 0.7353 - val_accuracy: 0.7112\n",
      "Epoch 12/100\n",
      "227451/227451 [==============================] - 14s 62us/step - loss: 0.7014 - accuracy: 0.7095 - val_loss: 0.7362 - val_accuracy: 0.7082\n",
      "Epoch 13/100\n",
      "227451/227451 [==============================] - 15s 64us/step - loss: 0.7011 - accuracy: 0.7093 - val_loss: 0.7335 - val_accuracy: 0.7139\n",
      "Epoch 14/100\n",
      "227451/227451 [==============================] - 15s 65us/step - loss: 0.7008 - accuracy: 0.7097 - val_loss: 0.7332 - val_accuracy: 0.7109\n",
      "Epoch 15/100\n",
      "227451/227451 [==============================] - 15s 65us/step - loss: 0.7003 - accuracy: 0.7092 - val_loss: 0.7340 - val_accuracy: 0.7073\n",
      "Epoch 16/100\n",
      "227451/227451 [==============================] - 14s 63us/step - loss: 0.7002 - accuracy: 0.7101 - val_loss: 0.7322 - val_accuracy: 0.7157\n",
      "Epoch 17/100\n",
      "227451/227451 [==============================] - 15s 64us/step - loss: 0.7000 - accuracy: 0.7096 - val_loss: 0.7357 - val_accuracy: 0.7079\n",
      "Epoch 18/100\n",
      "227451/227451 [==============================] - 14s 63us/step - loss: 0.6996 - accuracy: 0.7095 - val_loss: 0.7334 - val_accuracy: 0.7108\n",
      "Epoch 19/100\n",
      "227451/227451 [==============================] - 15s 64us/step - loss: 0.6994 - accuracy: 0.7106 - val_loss: 0.7323 - val_accuracy: 0.7145\n",
      "Epoch 20/100\n",
      "227451/227451 [==============================] - 15s 64us/step - loss: 0.6995 - accuracy: 0.7106 - val_loss: 0.7354 - val_accuracy: 0.7164\n",
      "Epoch 21/100\n",
      "227451/227451 [==============================] - 15s 64us/step - loss: 0.6996 - accuracy: 0.7111 - val_loss: 0.7341 - val_accuracy: 0.7108\n",
      "Epoch 22/100\n",
      "227451/227451 [==============================] - 15s 65us/step - loss: 0.6991 - accuracy: 0.7107 - val_loss: 0.7327 - val_accuracy: 0.7046\n",
      "Epoch 23/100\n",
      "227451/227451 [==============================] - 17s 76us/step - loss: 0.6991 - accuracy: 0.7119 - val_loss: 0.7347 - val_accuracy: 0.7082\n",
      "Epoch 24/100\n",
      "227451/227451 [==============================] - 14s 63us/step - loss: 0.6991 - accuracy: 0.7111 - val_loss: 0.7327 - val_accuracy: 0.7118\n",
      "Epoch 25/100\n",
      "227451/227451 [==============================] - 17s 74us/step - loss: 0.6988 - accuracy: 0.7112 - val_loss: 0.7329 - val_accuracy: 0.7104\n",
      "Epoch 26/100\n",
      "227451/227451 [==============================] - 18s 79us/step - loss: 0.6987 - accuracy: 0.7110 - val_loss: 0.7329 - val_accuracy: 0.7187\n",
      "Epoch 27/100\n",
      "227451/227451 [==============================] - 18s 80us/step - loss: 0.6984 - accuracy: 0.7118 - val_loss: 0.7327 - val_accuracy: 0.7043\n",
      "Epoch 28/100\n",
      "227451/227451 [==============================] - 14s 63us/step - loss: 0.6988 - accuracy: 0.7122 - val_loss: 0.7332 - val_accuracy: 0.7113\n",
      "Epoch 29/100\n",
      "227451/227451 [==============================] - 15s 64us/step - loss: 0.6985 - accuracy: 0.7120 - val_loss: 0.7421 - val_accuracy: 0.6987\n",
      "Epoch 30/100\n",
      "227451/227451 [==============================] - 16s 71us/step - loss: 0.6988 - accuracy: 0.7120 - val_loss: 0.7319 - val_accuracy: 0.7137\n",
      "Epoch 31/100\n",
      "227451/227451 [==============================] - 20s 87us/step - loss: 0.6985 - accuracy: 0.7111 - val_loss: 0.7322 - val_accuracy: 0.7093\n",
      "Epoch 32/100\n",
      "227451/227451 [==============================] - 16s 71us/step - loss: 0.6983 - accuracy: 0.7121 - val_loss: 0.7325 - val_accuracy: 0.7172\n",
      "Epoch 33/100\n",
      "227451/227451 [==============================] - 15s 64us/step - loss: 0.6985 - accuracy: 0.7113 - val_loss: 0.7323 - val_accuracy: 0.7132\n",
      "Epoch 34/100\n",
      "227451/227451 [==============================] - 16s 72us/step - loss: 0.6982 - accuracy: 0.7114 - val_loss: 0.7314 - val_accuracy: 0.7145\n",
      "Epoch 35/100\n",
      "227451/227451 [==============================] - 15s 66us/step - loss: 0.6984 - accuracy: 0.7117 - val_loss: 0.7324 - val_accuracy: 0.7200\n",
      "Epoch 36/100\n",
      "227451/227451 [==============================] - 15s 64us/step - loss: 0.6983 - accuracy: 0.7108 - val_loss: 0.7309 - val_accuracy: 0.7174\n",
      "Epoch 37/100\n",
      "227451/227451 [==============================] - 16s 68us/step - loss: 0.6979 - accuracy: 0.7123 - val_loss: 0.7352 - val_accuracy: 0.7093\n",
      "Epoch 38/100\n",
      "227451/227451 [==============================] - 14s 61us/step - loss: 0.6980 - accuracy: 0.7118 - val_loss: 0.7308 - val_accuracy: 0.7221\n",
      "Epoch 39/100\n",
      "227451/227451 [==============================] - 14s 61us/step - loss: 0.6981 - accuracy: 0.7124 - val_loss: 0.7312 - val_accuracy: 0.7120\n",
      "Epoch 40/100\n",
      "227451/227451 [==============================] - 18s 77us/step - loss: 0.6985 - accuracy: 0.7109 - val_loss: 0.7330 - val_accuracy: 0.7118\n",
      "Epoch 41/100\n",
      "227451/227451 [==============================] - 17s 75us/step - loss: 0.6980 - accuracy: 0.7118 - val_loss: 0.7325 - val_accuracy: 0.7124\n",
      "Epoch 42/100\n",
      "227451/227451 [==============================] - 15s 65us/step - loss: 0.6977 - accuracy: 0.7111 - val_loss: 0.7320 - val_accuracy: 0.7078\n",
      "Epoch 43/100\n",
      "227451/227451 [==============================] - 14s 63us/step - loss: 0.6977 - accuracy: 0.7120 - val_loss: 0.7319 - val_accuracy: 0.7180\n",
      "Epoch 44/100\n",
      "227451/227451 [==============================] - 14s 63us/step - loss: 0.6978 - accuracy: 0.7128 - val_loss: 0.7305 - val_accuracy: 0.7204\n",
      "Epoch 45/100\n",
      "227451/227451 [==============================] - 14s 61us/step - loss: 0.6976 - accuracy: 0.7117 - val_loss: 0.7319 - val_accuracy: 0.7138\n",
      "Epoch 46/100\n",
      "227451/227451 [==============================] - 15s 66us/step - loss: 0.6976 - accuracy: 0.7132 - val_loss: 0.7318 - val_accuracy: 0.7170\n",
      "Epoch 47/100\n",
      "227451/227451 [==============================] - 13s 59us/step - loss: 0.6978 - accuracy: 0.7125 - val_loss: 0.7311 - val_accuracy: 0.7178\n",
      "Epoch 48/100\n",
      "227451/227451 [==============================] - 15s 66us/step - loss: 0.6979 - accuracy: 0.7123 - val_loss: 0.7323 - val_accuracy: 0.7163\n",
      "Epoch 49/100\n",
      "227451/227451 [==============================] - 15s 65us/step - loss: 0.6977 - accuracy: 0.7133 - val_loss: 0.7321 - val_accuracy: 0.7132\n",
      "Epoch 50/100\n",
      "227451/227451 [==============================] - 14s 61us/step - loss: 0.6974 - accuracy: 0.7129 - val_loss: 0.7309 - val_accuracy: 0.7175\n",
      "Epoch 51/100\n",
      "227451/227451 [==============================] - 14s 62us/step - loss: 0.6975 - accuracy: 0.7135 - val_loss: 0.7333 - val_accuracy: 0.7080\n",
      "Epoch 52/100\n",
      "227451/227451 [==============================] - 14s 60us/step - loss: 0.6978 - accuracy: 0.7128 - val_loss: 0.7386 - val_accuracy: 0.7185\n",
      "Epoch 53/100\n",
      "227451/227451 [==============================] - 15s 66us/step - loss: 0.6974 - accuracy: 0.7125 - val_loss: 0.7327 - val_accuracy: 0.7158\n",
      "Epoch 54/100\n",
      "227451/227451 [==============================] - 14s 62us/step - loss: 0.6973 - accuracy: 0.7122 - val_loss: 0.7346 - val_accuracy: 0.7134\n",
      "Epoch 55/100\n",
      "227451/227451 [==============================] - 14s 63us/step - loss: 0.6975 - accuracy: 0.7123 - val_loss: 0.7316 - val_accuracy: 0.7189\n",
      "Epoch 56/100\n",
      "227451/227451 [==============================] - 15s 68us/step - loss: 0.6976 - accuracy: 0.7129 - val_loss: 0.7334 - val_accuracy: 0.7000\n",
      "Epoch 57/100\n",
      "227451/227451 [==============================] - 15s 65us/step - loss: 0.6974 - accuracy: 0.7121 - val_loss: 0.7328 - val_accuracy: 0.7116\n",
      "Epoch 58/100\n",
      "227451/227451 [==============================] - 18s 78us/step - loss: 0.6974 - accuracy: 0.7132 - val_loss: 0.7313 - val_accuracy: 0.7155\n",
      "Epoch 59/100\n",
      "227451/227451 [==============================] - 14s 59us/step - loss: 0.6974 - accuracy: 0.7121 - val_loss: 0.7317 - val_accuracy: 0.7079\n",
      "Epoch 60/100\n",
      "227451/227451 [==============================] - 13s 59us/step - loss: 0.6974 - accuracy: 0.7131 - val_loss: 0.7331 - val_accuracy: 0.7171\n",
      "Epoch 61/100\n",
      "227451/227451 [==============================] - 13s 59us/step - loss: 0.6973 - accuracy: 0.7129 - val_loss: 0.7312 - val_accuracy: 0.7224\n",
      "Epoch 62/100\n",
      "227451/227451 [==============================] - 13s 56us/step - loss: 0.6975 - accuracy: 0.7128 - val_loss: 0.7309 - val_accuracy: 0.7173\n",
      "Epoch 63/100\n",
      "227451/227451 [==============================] - 13s 58us/step - loss: 0.6973 - accuracy: 0.7128 - val_loss: 0.7306 - val_accuracy: 0.7201\n",
      "Epoch 64/100\n",
      "227451/227451 [==============================] - 13s 57us/step - loss: 0.6979 - accuracy: 0.7134 - val_loss: 0.7309 - val_accuracy: 0.7181\n",
      "Epoch 65/100\n",
      "227451/227451 [==============================] - 14s 60us/step - loss: 0.6972 - accuracy: 0.7137 - val_loss: 0.7320 - val_accuracy: 0.7164\n",
      "Epoch 66/100\n",
      "227451/227451 [==============================] - 13s 59us/step - loss: 0.6976 - accuracy: 0.7123 - val_loss: 0.7306 - val_accuracy: 0.7113\n",
      "Epoch 67/100\n",
      "227451/227451 [==============================] - 13s 59us/step - loss: 0.6971 - accuracy: 0.7136 - val_loss: 0.7340 - val_accuracy: 0.7139\n",
      "Epoch 68/100\n",
      "227451/227451 [==============================] - 13s 58us/step - loss: 0.6977 - accuracy: 0.7124 - val_loss: 0.7401 - val_accuracy: 0.7052\n",
      "Epoch 69/100\n",
      "227451/227451 [==============================] - 13s 56us/step - loss: 0.6975 - accuracy: 0.7124 - val_loss: 0.7312 - val_accuracy: 0.7172\n",
      "Epoch 70/100\n",
      "227451/227451 [==============================] - 13s 57us/step - loss: 0.6972 - accuracy: 0.7123 - val_loss: 0.7313 - val_accuracy: 0.7147\n",
      "Epoch 71/100\n",
      "227451/227451 [==============================] - 14s 60us/step - loss: 0.6975 - accuracy: 0.7135 - val_loss: 0.7320 - val_accuracy: 0.7142\n",
      "Epoch 72/100\n",
      "227451/227451 [==============================] - 14s 64us/step - loss: 0.6973 - accuracy: 0.7131 - val_loss: 0.7314 - val_accuracy: 0.7163\n",
      "Epoch 73/100\n",
      "227451/227451 [==============================] - 16s 71us/step - loss: 0.6972 - accuracy: 0.7125 - val_loss: 0.7334 - val_accuracy: 0.7088\n",
      "Epoch 74/100\n",
      "227451/227451 [==============================] - 14s 61us/step - loss: 0.6972 - accuracy: 0.7142 - val_loss: 0.7313 - val_accuracy: 0.7197\n",
      "Epoch 75/100\n",
      "227451/227451 [==============================] - 14s 63us/step - loss: 0.6971 - accuracy: 0.7146 - val_loss: 0.7312 - val_accuracy: 0.7162\n",
      "Epoch 76/100\n",
      "227451/227451 [==============================] - 14s 61us/step - loss: 0.6973 - accuracy: 0.7126 - val_loss: 0.7324 - val_accuracy: 0.7104\n",
      "Epoch 77/100\n",
      "227451/227451 [==============================] - 14s 61us/step - loss: 0.6975 - accuracy: 0.7129 - val_loss: 0.7324 - val_accuracy: 0.7076\n",
      "Epoch 78/100\n",
      "227451/227451 [==============================] - 15s 66us/step - loss: 0.6970 - accuracy: 0.7134 - val_loss: 0.7310 - val_accuracy: 0.7189\n",
      "Epoch 79/100\n",
      "227451/227451 [==============================] - 16s 70us/step - loss: 0.6972 - accuracy: 0.7135 - val_loss: 0.7313 - val_accuracy: 0.7134\n",
      "Epoch 80/100\n",
      "227451/227451 [==============================] - 14s 61us/step - loss: 0.6972 - accuracy: 0.7136 - val_loss: 0.7324 - val_accuracy: 0.7131\n",
      "Epoch 81/100\n",
      "227451/227451 [==============================] - 16s 70us/step - loss: 0.6973 - accuracy: 0.7126 - val_loss: 0.7311 - val_accuracy: 0.7170\n",
      "Epoch 82/100\n",
      "227451/227451 [==============================] - 15s 67us/step - loss: 0.6974 - accuracy: 0.7138 - val_loss: 0.7325 - val_accuracy: 0.7107\n",
      "Epoch 83/100\n",
      "227451/227451 [==============================] - 15s 64us/step - loss: 0.6970 - accuracy: 0.7137 - val_loss: 0.7319 - val_accuracy: 0.7194\n",
      "Epoch 84/100\n",
      "227451/227451 [==============================] - 14s 60us/step - loss: 0.6973 - accuracy: 0.7131 - val_loss: 0.7339 - val_accuracy: 0.7228\n",
      "Epoch 85/100\n",
      "227451/227451 [==============================] - 14s 60us/step - loss: 0.6969 - accuracy: 0.7138 - val_loss: 0.7346 - val_accuracy: 0.7121\n",
      "Epoch 86/100\n",
      "227451/227451 [==============================] - 14s 63us/step - loss: 0.6973 - accuracy: 0.7139 - val_loss: 0.7317 - val_accuracy: 0.7145\n",
      "Epoch 87/100\n",
      "227451/227451 [==============================] - 14s 61us/step - loss: 0.6973 - accuracy: 0.7138 - val_loss: 0.7328 - val_accuracy: 0.7129\n",
      "Epoch 88/100\n",
      "227451/227451 [==============================] - 15s 65us/step - loss: 0.6970 - accuracy: 0.7137 - val_loss: 0.7319 - val_accuracy: 0.7219\n",
      "Epoch 89/100\n",
      "227451/227451 [==============================] - 15s 68us/step - loss: 0.6971 - accuracy: 0.7147 - val_loss: 0.7303 - val_accuracy: 0.7238\n",
      "Epoch 90/100\n",
      "227451/227451 [==============================] - 14s 63us/step - loss: 0.6971 - accuracy: 0.7150 - val_loss: 0.7334 - val_accuracy: 0.7147\n",
      "Epoch 91/100\n",
      "227451/227451 [==============================] - 14s 62us/step - loss: 0.6971 - accuracy: 0.7136 - val_loss: 0.7314 - val_accuracy: 0.7225\n",
      "Epoch 92/100\n",
      "227451/227451 [==============================] - 14s 63us/step - loss: 0.6970 - accuracy: 0.7139 - val_loss: 0.7318 - val_accuracy: 0.7184\n",
      "Epoch 93/100\n",
      "227451/227451 [==============================] - 15s 65us/step - loss: 0.6971 - accuracy: 0.7150 - val_loss: 0.7305 - val_accuracy: 0.7189\n",
      "Epoch 94/100\n",
      "227451/227451 [==============================] - 14s 64us/step - loss: 0.6971 - accuracy: 0.7139 - val_loss: 0.7302 - val_accuracy: 0.7220\n",
      "Epoch 95/100\n",
      "227451/227451 [==============================] - 16s 68us/step - loss: 0.6969 - accuracy: 0.7140 - val_loss: 0.7309 - val_accuracy: 0.7202\n",
      "Epoch 96/100\n",
      "227451/227451 [==============================] - 17s 74us/step - loss: 0.6972 - accuracy: 0.7149 - val_loss: 0.7308 - val_accuracy: 0.7151\n",
      "Epoch 97/100\n",
      "227451/227451 [==============================] - 15s 65us/step - loss: 0.6973 - accuracy: 0.7147 - val_loss: 0.7329 - val_accuracy: 0.7175\n",
      "Epoch 98/100\n",
      "227451/227451 [==============================] - 16s 71us/step - loss: 0.6970 - accuracy: 0.7145 - val_loss: 0.7319 - val_accuracy: 0.7235\n",
      "Epoch 99/100\n",
      "227451/227451 [==============================] - 14s 60us/step - loss: 0.6968 - accuracy: 0.7138 - val_loss: 0.7325 - val_accuracy: 0.7167\n",
      "Epoch 100/100\n",
      "227451/227451 [==============================] - 14s 63us/step - loss: 0.6973 - accuracy: 0.7149 - val_loss: 0.7316 - val_accuracy: 0.7190\n"
     ]
    },
    {
     "data": {
      "text/plain": [
       "<keras.engine.training.Model at 0x252e435aef0>"
      ]
     },
     "execution_count": 20,
     "metadata": {},
     "output_type": "execute_result"
    }
   ],
   "source": [
    "autoencoder.compile(optimizer = 'adam',\n",
    "                   loss = 'mean_squared_error',\n",
    "                    metrics = ['accuracy'])\n",
    "checkpointer = ModelCheckpoint(filepath = 'autoencoder_without_smote.h5',verbose = 0, save_best_only = True)\n",
    "\n",
    "tensorboard = TensorBoard(log_dir= '.logs',\n",
    "                         histogram_freq = 0,\n",
    "                         write_graph = True,\n",
    "                         write_images =True)\n",
    "\n",
    "history = autoencoder.fit(X_feature, X_feature,epochs = 100, batch_size = 30, shuffle = True,\n",
    "                          validation_data = (X_target, X_target),\n",
    "                          verbose = 1,\n",
    "                          callbacks = [checkpointer, tensorboard]).history\n",
    "load_model('autoencoder_without_smote.h5')"
   ]
  },
  {
   "cell_type": "code",
   "execution_count": 21,
   "metadata": {},
   "outputs": [
    {
     "data": {
      "text/plain": [
       "<matplotlib.legend.Legend at 0x252e49f1898>"
      ]
     },
     "execution_count": 21,
     "metadata": {},
     "output_type": "execute_result"
    },
    {
     "data": {
      "image/png": "[encoded data removed]",
      "text/plain": [
       "<Figure size 432x288 with 1 Axes>"
      ]
     },
     "metadata": {
      "needs_background": "light"
     },
     "output_type": "display_data"
    }
   ],
   "source": [
    "plt.plot(history['loss'])\n",
    "plt.plot(history['val_loss'])\n",
    "plt.title('model loss' , fontweight='bold', fontsize = '15', color = \"gray\")\n",
    "plt.ylabel('loss' ,fontweight='bold', fontsize = '15', color = \"gray\")\n",
    "plt.xlabel('epoch', fontweight='bold', fontsize = '15', color = \"gray\")\n",
    "plt.grid(b=True, which='major', color='#666666', linestyle='-')\n",
    "plt.legend(['train' , 'test'], loc = 'upper right')"
   ]
  },
  {
   "cell_type": "code",
   "execution_count": 22,
   "metadata": {},
   "outputs": [
    {
     "data": {
      "text/plain": [
       "(56962, 29)"
      ]
     },
     "execution_count": 22,
     "metadata": {},
     "output_type": "execute_result"
    }
   ],
   "source": [
    "predictions = autoencoder.predict(X_target)\n",
    "predictions.shape"
   ]
  },
  {
   "cell_type": "code",
   "execution_count": 23,
   "metadata": {},
   "outputs": [],
   "source": [
    "mean_squared_error = np.mean(np.power(X_target - predictions, 2), axis =1)\n",
    "# mean_squared_error\n",
    "error_df = pd.DataFrame({'error':mean_squared_error, 'true_class':y_target})"
   ]
  },
  {
   "cell_type": "code",
   "execution_count": 24,
   "metadata": {},
   "outputs": [
    {
     "data": {
      "text/html": [
       "<div>\n",
       "<style scoped>\n",
       "    .dataframe tbody tr th:only-of-type {\n",
       "        vertical-align: middle;\n",
       "    }\n",
       "\n",
       "    .dataframe tbody tr th {\n",
       "        vertical-align: top;\n",
       "    }\n",
       "\n",
       "    .dataframe thead th {\n",
       "        text-align: right;\n",
       "    }\n",
       "</style>\n",
       "<table border=\"1\" class=\"dataframe\">\n",
       "  <thead>\n",
       "    <tr style=\"text-align: right;\">\n",
       "      <th></th>\n",
       "      <th>error</th>\n",
       "      <th>true_class</th>\n",
       "    </tr>\n",
       "  </thead>\n",
       "  <tbody>\n",
       "    <tr>\n",
       "      <th>count</th>\n",
       "      <td>56962.000000</td>\n",
       "      <td>56962.000000</td>\n",
       "    </tr>\n",
       "    <tr>\n",
       "      <th>mean</th>\n",
       "      <td>0.729290</td>\n",
       "      <td>0.001720</td>\n",
       "    </tr>\n",
       "    <tr>\n",
       "      <th>std</th>\n",
       "      <td>3.415912</td>\n",
       "      <td>0.041443</td>\n",
       "    </tr>\n",
       "    <tr>\n",
       "      <th>min</th>\n",
       "      <td>0.046359</td>\n",
       "      <td>0.000000</td>\n",
       "    </tr>\n",
       "    <tr>\n",
       "      <th>25%</th>\n",
       "      <td>0.232803</td>\n",
       "      <td>0.000000</td>\n",
       "    </tr>\n",
       "    <tr>\n",
       "      <th>50%</th>\n",
       "      <td>0.378589</td>\n",
       "      <td>0.000000</td>\n",
       "    </tr>\n",
       "    <tr>\n",
       "      <th>75%</th>\n",
       "      <td>0.609198</td>\n",
       "      <td>0.000000</td>\n",
       "    </tr>\n",
       "    <tr>\n",
       "      <th>max</th>\n",
       "      <td>268.344927</td>\n",
       "      <td>1.000000</td>\n",
       "    </tr>\n",
       "  </tbody>\n",
       "</table>\n",
       "</div>"
      ],
      "text/plain": [
       "              error    true_class\n",
       "count  56962.000000  56962.000000\n",
       "mean       0.729290      0.001720\n",
       "std        3.415912      0.041443\n",
       "min        0.046359      0.000000\n",
       "25%        0.232803      0.000000\n",
       "50%        0.378589      0.000000\n",
       "75%        0.609198      0.000000\n",
       "max      268.344927      1.000000"
      ]
     },
     "execution_count": 24,
     "metadata": {},
     "output_type": "execute_result"
    }
   ],
   "source": [
    "error_df.describe()"
   ]
  },
  {
   "cell_type": "code",
   "execution_count": 25,
   "metadata": {},
   "outputs": [],
   "source": [
    "from sklearn.metrics import (confusion_matrix, precision_recall_curve, auc,\n",
    "                             roc_curve, recall_score, classification_report, f1_score,\n",
    "                             precision_recall_fscore_support)"
   ]
  },
  {
   "cell_type": "code",
   "execution_count": 26,
   "metadata": {},
   "outputs": [
    {
     "data": {
      "image/png": "[encoded data removed]",
      "text/plain": [
       "<Figure size 432x288 with 1 Axes>"
      ]
     },
     "metadata": {
      "needs_background": "light"
     },
     "output_type": "display_data"
    }
   ],
   "source": [
    "false_pos_rate, true_pos_rate, thresholds = roc_curve(error_df.true_class, error_df.error)\n",
    "roc_auc = auc(false_pos_rate, true_pos_rate)\n",
    "\n",
    "plt.figure()\n",
    "plt.plot(false_pos_rate, true_pos_rate, color='darkorange', lw=1, label='AUC curve (area = %0.3f)' % roc_auc)\n",
    "plt.plot([0, 1], [0, 1], color='navy', lw=5, linestyle='--')\n",
    "plt.xlim([0.0, 1.0])\n",
    "plt.ylim([0.0, 1.05])\n",
    "plt.xlabel('False Positive Rate/ 1 - Specificity ',  fontweight='bold', fontsize = '10', color = \"gray\")\n",
    "plt.ylabel('True Positive Rate / sensitivity ' ,  fontweight='bold', fontsize = '10', color = \"gray\")\n",
    "plt.title('Receiver operating characteristic (ROC)')\n",
    "plt.legend(loc=\"lower right\")\n",
    "plt.grid(b=True, which='major', color='#666666', linestyle='-')\n",
    "plt.show()"
   ]
  },
  {
   "cell_type": "code",
   "execution_count": 27,
   "metadata": {},
   "outputs": [
    {
     "data": {
      "image/png": "[encoded data removed]",
      "text/plain": [
       "<Figure size 432x288 with 1 Axes>"
      ]
     },
     "metadata": {
      "needs_background": "light"
     },
     "output_type": "display_data"
    }
   ],
   "source": [
    "precision, recall, th = precision_recall_curve(error_df.true_class, error_df.error)\n",
    "plt.plot(recall, precision, 'b', label='Precision-Recall curve')\n",
    "plt.title('Recall vs Precision')\n",
    "plt.xlabel('Recall',fontweight='bold', fontsize = '10', color = \"gray\")\n",
    "plt.ylabel('Precision',fontweight='bold', fontsize = '10', color = \"gray\")\n",
    "plt.grid(b=True, which='major', color='#666666', linestyle='-')\n",
    "plt.show()"
   ]
  },
  {
   "cell_type": "code",
   "execution_count": 28,
   "metadata": {},
   "outputs": [
    {
     "data": {
      "image/png": "[encoded data removed]",
      "text/plain": [
       "<Figure size 432x288 with 1 Axes>"
      ]
     },
     "metadata": {
      "needs_background": "light"
     },
     "output_type": "display_data"
    }
   ],
   "source": [
    "plt.plot(th, precision[1:], 'b', label='Threshold-Precision curve')\n",
    "plt.title('Precision for different threshold values')\n",
    "plt.xlabel('Threshold', fontweight='bold', fontsize = '10', color = \"gray\")\n",
    "plt.ylabel('Precision',fontweight='bold', fontsize = '10', color = \"gray\" )\n",
    "plt.grid(b=True, which='major', color='#666666', linestyle='-')\n",
    "plt.show()"
   ]
  },
  {
   "cell_type": "code",
   "execution_count": 29,
   "metadata": {},
   "outputs": [
    {
     "data": {
      "image/png": "[encoded data removed]",
      "text/plain": [
       "<Figure size 432x288 with 1 Axes>"
      ]
     },
     "metadata": {
      "needs_background": "light"
     },
     "output_type": "display_data"
    }
   ],
   "source": [
    "plt.plot(th, recall[1:], 'b', label='Threshold-Recall curve')\n",
    "plt.title('Recall for different threshold values', fontweight='bold', fontsize = '10', color = \"gray\")\n",
    "plt.xlabel('Reconstruction error', fontweight='bold', fontsize = '10', color = \"gray\")\n",
    "plt.ylabel('Recall', fontweight='bold', fontsize = '10', color = \"gray\")\n",
    "plt.grid(b=True, which='major', color='#666666', linestyle='-')\n",
    "plt.show()"
   ]
  },
  {
   "cell_type": "code",
   "execution_count": 30,
   "metadata": {},
   "outputs": [
    {
     "data": {
      "image/png": "[encoded data removed]",
      "text/plain": [
       "<Figure size 432x288 with 1 Axes>"
      ]
     },
     "metadata": {
      "needs_background": "light"
     },
     "output_type": "display_data"
    }
   ],
   "source": [
    "threshold = 2.9\n",
    "\n",
    "groups = error_df.groupby('true_class')\n",
    "fig, ax = plt.subplots()\n",
    "\n",
    "for name, group in groups:\n",
    "    ax.plot(group.index, group.error, marker='o', ms=3.5, linestyle='',\n",
    "            label= \"Fraud\" if name == 1 else \"Normal\")\n",
    "ax.hlines(threshold, ax.get_xlim()[0], ax.get_xlim()[1], colors=\"r\", zorder=100, label='Threshold')\n",
    "ax.legend()\n",
    "plt.title(\"Reconstruction error for different classes\", fontweight='bold', fontsize = '10', color = \"gray\")\n",
    "plt.ylabel(\"Reconstruction error\", fontweight='bold', fontsize = '10', color = \"gray\")\n",
    "plt.xlabel(\"Data point index\", fontweight='bold', fontsize = '10', color = \"gray\")\n",
    "plt.grid(b=True, which='major', color='#666666', linestyle='-')\n",
    "plt.show();"
   ]
  },
  {
   "cell_type": "code",
   "execution_count": 31,
   "metadata": {},
   "outputs": [
    {
     "data": {
      "text/plain": [
       "array([[55513,  1351],\n",
       "       [   20,    78]], dtype=int64)"
      ]
     },
     "execution_count": 31,
     "metadata": {},
     "output_type": "execute_result"
    }
   ],
   "source": [
    "y_pred = [1 if e > threshold else 0 for e in error_df.error.values]\n",
    "conf_matrix = confusion_matrix(error_df.true_class, y_pred)\n",
    "conf_matrix"
   ]
  },
  {
   "cell_type": "code",
   "execution_count": 32,
   "metadata": {},
   "outputs": [
    {
     "name": "stdout",
     "output_type": "stream",
     "text": [
      "              precision    recall  f1-score   support\n",
      "\n",
      "           0       1.00      0.98      0.99     56864\n",
      "           1       0.05      0.80      0.10        98\n",
      "\n",
      "    accuracy                           0.98     56962\n",
      "   macro avg       0.53      0.89      0.54     56962\n",
      "weighted avg       1.00      0.98      0.99     56962\n",
      "\n"
     ]
    }
   ],
   "source": [
    "from sklearn.metrics import classification_report\n",
    "print(classification_report(error_df.true_class, y_pred))"
   ]
  },
  {
   "cell_type": "code",
   "execution_count": 33,
   "metadata": {},
   "outputs": [
    {
     "data": {
      "image/png": "[encoded data removed]",
      "text/plain": [
       "<Figure size 432x288 with 2 Axes>"
      ]
     },
     "metadata": {
      "needs_background": "light"
     },
     "output_type": "display_data"
    }
   ],
   "source": [
    "sns.heatmap(conf_matrix, annot=True, fmt=\"d\",cmap=plt.cm.BuGn);\n",
    "plt.title(\"Confusion matrix\")\n",
    "plt.ylabel('Actual class')\n",
    "plt.xlabel('Predicted class')\n",
    "plt.show()"
   ]
  }
 ],
 "metadata": {
  "kernelspec": {
   "display_name": "Python 3 (ipykernel)",
   "language": "python",
   "name": "python3"
  },
  "language_info": {
   "codemirror_mode": {
    "name": "ipython",
    "version": 3
   },
   "file_extension": ".py",
   "mimetype": "text/x-python",
   "name": "python",
   "nbconvert_exporter": "python",
   "pygments_lexer": "ipython3",
   "version": "3.9.13"
  }
 },
 "nbformat": 4,
 "nbformat_minor": 2
}
